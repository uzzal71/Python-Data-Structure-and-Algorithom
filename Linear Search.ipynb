{
 "cells": [
  {
   "cell_type": "code",
   "execution_count": 37,
   "metadata": {},
   "outputs": [
    {
     "name": "stdout",
     "output_type": "stream",
     "text": [
      "Which location search you?-Nilphamari\n",
      "Sorry, Location Not Found!\n"
     ]
    }
   ],
   "source": [
    "# Define Linear Search Class\n",
    "class LinearSearch:\n",
    "    def __init__(self, loc, location):\n",
    "        self.position = 0\n",
    "        self.found = False\n",
    "        self.location = location\n",
    "        self.loc = loc\n",
    "        self.loc_length = len(self.location)\n",
    "        \n",
    "    def Search(self):\n",
    "        while self.position < self.loc_length and not self.found:\n",
    "            if self.location[self.position] == self.loc:\n",
    "                self.found = True\n",
    "            self.position = self.position + 1\n",
    "        return self.found   \n",
    "        \n",
    "        \n",
    "if __name__ == \"__main__\":\n",
    "    # Create A List Bangladesh All Division Name\n",
    "    location = [\n",
    "        'Dhaka', 'Rangpur', 'Rajshahi',\n",
    "        'Barisal ', 'Chittagong', 'Comilla',\n",
    "        'Faridpur', 'Mymensingh', ' Mymensingh',\n",
    "        'Khulna'\n",
    "    ]\n",
    "    loc = input(\"Which location searching for you?-\")\n",
    "    # Create Obj LinearSearch Class pass to parameter: loc, location list\n",
    "    linear = LinearSearch(loc, location)\n",
    "    # Call Search Function\n",
    "    isLocked = linear.Search()\n",
    "    if isLocked:\n",
    "        print('%s Division has been locked' % loc)\n",
    "    else:\n",
    "        print('Sorry, Location Not Found!')"
   ]
  },
  {
   "cell_type": "code",
   "execution_count": null,
   "metadata": {},
   "outputs": [],
   "source": []
  }
 ],
 "metadata": {
  "kernelspec": {
   "display_name": "Python 3",
   "language": "python",
   "name": "python3"
  },
  "language_info": {
   "codemirror_mode": {
    "name": "ipython",
    "version": 3
   },
   "file_extension": ".py",
   "mimetype": "text/x-python",
   "name": "python",
   "nbconvert_exporter": "python",
   "pygments_lexer": "ipython3",
   "version": "3.7.1"
  }
 },
 "nbformat": 4,
 "nbformat_minor": 2
}
